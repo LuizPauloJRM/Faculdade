{
 "cells": [
  {
   "cell_type": "code",
   "execution_count": 1,
   "id": "322cb073-c0b1-407a-b955-75d7124a6e00",
   "metadata": {},
   "outputs": [
    {
     "name": "stdout",
     "output_type": "stream",
     "text": [
      "Requirement already satisfied: requests in c:\\users\\acer\\anaconda3\\lib\\site-packages (2.31.0)\n",
      "Requirement already satisfied: beautifulsoup4 in c:\\users\\acer\\anaconda3\\lib\\site-packages (4.12.2)\n",
      "Requirement already satisfied: pandas in c:\\users\\acer\\anaconda3\\lib\\site-packages (2.1.4)\n",
      "Requirement already satisfied: numpy in c:\\users\\acer\\anaconda3\\lib\\site-packages (1.26.4)\n",
      "Requirement already satisfied: matplotlib in c:\\users\\acer\\anaconda3\\lib\\site-packages (3.9.2)\n",
      "Requirement already satisfied: charset-normalizer<4,>=2 in c:\\users\\acer\\anaconda3\\lib\\site-packages (from requests) (2.0.4)\n",
      "Requirement already satisfied: idna<4,>=2.5 in c:\\users\\acer\\anaconda3\\lib\\site-packages (from requests) (3.4)\n",
      "Requirement already satisfied: urllib3<3,>=1.21.1 in c:\\users\\acer\\anaconda3\\lib\\site-packages (from requests) (2.0.7)\n",
      "Requirement already satisfied: certifi>=2017.4.17 in c:\\users\\acer\\anaconda3\\lib\\site-packages (from requests) (2024.2.2)\n",
      "Requirement already satisfied: soupsieve>1.2 in c:\\users\\acer\\anaconda3\\lib\\site-packages (from beautifulsoup4) (2.5)\n",
      "Requirement already satisfied: python-dateutil>=2.8.2 in c:\\users\\acer\\appdata\\roaming\\python\\python311\\site-packages (from pandas) (2.9.0.post0)\n",
      "Requirement already satisfied: pytz>=2020.1 in c:\\users\\acer\\anaconda3\\lib\\site-packages (from pandas) (2023.3.post1)\n",
      "Requirement already satisfied: tzdata>=2022.1 in c:\\users\\acer\\anaconda3\\lib\\site-packages (from pandas) (2023.3)\n",
      "Requirement already satisfied: contourpy>=1.0.1 in c:\\users\\acer\\anaconda3\\lib\\site-packages (from matplotlib) (1.2.0)\n",
      "Requirement already satisfied: cycler>=0.10 in c:\\users\\acer\\anaconda3\\lib\\site-packages (from matplotlib) (0.11.0)\n",
      "Requirement already satisfied: fonttools>=4.22.0 in c:\\users\\acer\\anaconda3\\lib\\site-packages (from matplotlib) (4.25.0)\n",
      "Requirement already satisfied: kiwisolver>=1.3.1 in c:\\users\\acer\\anaconda3\\lib\\site-packages (from matplotlib) (1.4.4)\n",
      "Requirement already satisfied: packaging>=20.0 in c:\\users\\acer\\appdata\\roaming\\python\\python311\\site-packages (from matplotlib) (24.0)\n",
      "Requirement already satisfied: pillow>=8 in c:\\users\\acer\\anaconda3\\lib\\site-packages (from matplotlib) (10.2.0)\n",
      "Requirement already satisfied: pyparsing>=2.3.1 in c:\\users\\acer\\anaconda3\\lib\\site-packages (from matplotlib) (3.0.9)\n",
      "Requirement already satisfied: six>=1.5 in c:\\users\\acer\\appdata\\roaming\\python\\python311\\site-packages (from python-dateutil>=2.8.2->pandas) (1.16.0)\n"
     ]
    }
   ],
   "source": [
    "!pip install requests beautifulsoup4 pandas numpy matplotlib\n"
   ]
  },
  {
   "cell_type": "markdown",
   "id": "9d2989b8-c988-494f-829c-bd233d2d8d6d",
   "metadata": {},
   "source": [
    "Importando bibliotecas"
   ]
  },
  {
   "cell_type": "code",
   "execution_count": 2,
   "id": "f4f89acb-f6b5-44f8-939f-1c6535777d63",
   "metadata": {},
   "outputs": [],
   "source": [
    "import requests as rq\n",
    "from bs4 import BeautifulSoup as bs\n",
    "import pandas as pd\n",
    "from datetime import datetime\n",
    "import numpy as np\n"
   ]
  },
  {
   "cell_type": "markdown",
   "id": "4753d6e2-7ed2-404c-b7d6-9394da32999a",
   "metadata": {},
   "source": [
    "Analise para extração de dados "
   ]
  },
  {
   "cell_type": "markdown",
   "id": "86fb9030-7ad5-47d6-bb6d-82a404bb4ea0",
   "metadata": {},
   "source": [
    "Extração de dados de múltiplas páginas "
   ]
  },
  {
   "cell_type": "code",
   "execution_count": 8,
   "id": "4f7fe46b-6652-48ac-b3d8-0f326111b8e9",
   "metadata": {
    "scrolled": true
   },
   "outputs": [
    {
     "name": "stdout",
     "output_type": "stream",
     "text": [
      "                                                imagem  \\\n",
      "0    https://i.zst.com.br/thumbs/45/38/33/-12396073...   \n",
      "1    https://i.zst.com.br/thumbs/45/a/30/-949891967...   \n",
      "2    https://i.zst.com.br/thumbs/45/38/14/-13013616...   \n",
      "3    https://i.zst.com.br/thumbs/45/19/31/-11139722...   \n",
      "4    https://i.zst.com.br/thumbs/45/a/30/-949891967...   \n",
      "..                                                 ...   \n",
      "166  https://i.zst.com.br/thumbs/45/21/1/-105908513...   \n",
      "167  https://i.zst.com.br/thumbs/45/10/30/-98922075...   \n",
      "168  https://i.zst.com.br/thumbs/45/20/f/-140285897...   \n",
      "169  https://i.zst.com.br/thumbs/45/36/38/-86644861...   \n",
      "170  https://i.zst.com.br/thumbs/45/3d/32/-84527728...   \n",
      "\n",
      "                                                modelo    preço  \\\n",
      "0             Celular Samsung Galaxy A55 5G 256GB 8 GB  2200.00   \n",
      "1             Celular Samsung Galaxy S23 5G 256GB 8 GB  3649.99   \n",
      "2       Celular Xiaomi Redmi Note 13 Pro 4G 256GB 8 GB  1403.00   \n",
      "3                   Celular Apple iPhone 15 128GB 6 GB  4539.90   \n",
      "4             Celular Samsung Galaxy S23 5G 256GB 8 GB  2788.85   \n",
      "..                                                 ...      ...   \n",
      "166                Celular Xiaomi Redmi 12C 128GB 4 GB   712.50   \n",
      "167  Celular Samsung Galaxy M14 5G SM-M146B 128GB 4 GB  1799.00   \n",
      "168  Celular Xiaomi Redmi Note 13 Pro Plus 5G 512GB 12  2741.29   \n",
      "169     Celular Motorola Moto G 5G XT2113-3 128GB 6 GB   719.00   \n",
      "170             Celular Apple iPhone 14 Pro 512GB 6 GB  7723.46   \n",
      "\n",
      "               Data_Hora_Local  \n",
      "0   2024-11-13 20:45:56.252693  \n",
      "1   2024-11-13 20:45:56.252693  \n",
      "2   2024-11-13 20:45:56.252693  \n",
      "3   2024-11-13 20:45:56.252693  \n",
      "4   2024-11-13 20:45:56.252693  \n",
      "..                         ...  \n",
      "166 2024-11-13 20:45:56.252693  \n",
      "167 2024-11-13 20:45:56.252693  \n",
      "168 2024-11-13 20:45:56.252693  \n",
      "169 2024-11-13 20:45:56.252693  \n",
      "170 2024-11-13 20:45:56.252693  \n",
      "\n",
      "[171 rows x 4 columns]\n"
     ]
    }
   ],
   "source": [
    "import warnings\n",
    "from requests.packages.urllib3.exceptions import InsecureRequestWarning\n",
    "import requests as rq\n",
    "from bs4 import BeautifulSoup as bs\n",
    "import pandas as pd\n",
    "from datetime import datetime\n",
    "import numpy as np\n",
    "\n",
    "# Ignora o aviso de InsecureRequestWarning\n",
    "warnings.simplefilter('ignore', InsecureRequestWarning)\n",
    "\n",
    "# Função para analisar uma página e extrair dados\n",
    "def analisa_pagina(url):\n",
    "    # Faz a requisição da página\n",
    "    pagina = rq.get(url, verify=False)\n",
    "    # Cria o analisador de HTML\n",
    "    analisador_pagina = bs(pagina.content, 'html.parser')\n",
    "    \n",
    "    # Lista para armazenar informações de celulares\n",
    "    celulares = []\n",
    "    \n",
    "    # Encontra todos os elementos de produtos\n",
    "    for x in analisador_pagina.find_all(class_='ProductCard_ProductCard_Body__bnVUn'):\n",
    "        imagemCelular = x.find(class_=\"ProductCard_ProductCard_Image__4v1sa\").find('img')['src']\n",
    "        modeloCelular = x.find(class_=\"ProductCard_ProductCard_NameWrapper__45Z01\").text\n",
    "        precoCelular = x.find(class_=\"Text_Text__ARJdp Text_MobileHeadingS__HEz7L\").text\n",
    "        \n",
    "        # Adiciona as informações extraídas à lista de celulares\n",
    "        celulares.append({\n",
    "            'imagem': imagemCelular,\n",
    "            'modelo': modeloCelular,\n",
    "            'preço': precoCelular\n",
    "        })\n",
    "    \n",
    "    return celulares\n",
    "\n",
    "# URL base para busca de dados\n",
    "url_base = \"https://www.bondfaro.com.br/celular?page=\"\n",
    "\n",
    "# Extração de dados de múltiplas páginas\n",
    "celulares_total = []\n",
    "\n",
    "# Loop para percorrer as páginas (ajuste o número conforme necessário)\n",
    "for x in range(1, 8):\n",
    "    url_pagina = url_base + str(x)\n",
    "    celulares_total.extend(analisa_pagina(url_pagina))\n",
    "\n",
    "# Criação de DataFrame\n",
    "df = pd.DataFrame(celulares_total)\n",
    "\n",
    "# Limpeza e conversão da coluna de preços\n",
    "df['preço'] = (\n",
    "    df['preço']\n",
    "    .replace({'R\\$': '', '\\.': '', ',': '.'}, regex=True)  # Remove 'R$', pontos e troca vírgula por ponto\n",
    "    .replace('', np.nan)  # Substitui strings vazias por NaN\n",
    "    .astype(float)  # Converte para float\n",
    ")\n",
    "\n",
    "# Adiciona uma coluna de data e hora\n",
    "df['Data_Hora_Local'] = pd.to_datetime(datetime.now())\n",
    "\n",
    "# Exibe o DataFrame para visualização\n",
    "print(df)\n"
   ]
  },
  {
   "cell_type": "code",
   "execution_count": null,
   "id": "9210f8d2-8c2d-4795-a3eb-d57f3f64cbbe",
   "metadata": {},
   "outputs": [],
   "source": []
  },
  {
   "cell_type": "code",
   "execution_count": 9,
   "id": "acec184a-ba45-48a7-81c7-38c5da1c822b",
   "metadata": {},
   "outputs": [],
   "source": [
    "df.to_csv('celulares_data.csv', index=False)\n"
   ]
  }
 ],
 "metadata": {
  "kernelspec": {
   "display_name": "Python 3 (ipykernel)",
   "language": "python",
   "name": "python3"
  },
  "language_info": {
   "codemirror_mode": {
    "name": "ipython",
    "version": 3
   },
   "file_extension": ".py",
   "mimetype": "text/x-python",
   "name": "python",
   "nbconvert_exporter": "python",
   "pygments_lexer": "ipython3",
   "version": "3.11.7"
  }
 },
 "nbformat": 4,
 "nbformat_minor": 5
}
